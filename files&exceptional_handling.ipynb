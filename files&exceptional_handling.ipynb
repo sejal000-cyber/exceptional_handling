{
  "nbformat": 4,
  "nbformat_minor": 0,
  "metadata": {
    "colab": {
      "provenance": []
    },
    "kernelspec": {
      "name": "python3",
      "display_name": "Python 3"
    },
    "language_info": {
      "name": "python"
    }
  },
  "cells": [
    {
      "cell_type": "markdown",
      "source": [
        "Ques.1 Discuss the scenarios where multithreading is preferable to multiprocessing and scenarios where multiprocessing is a better choice.\n",
        "\n",
        "Ans: Choosing between multithreading and multiprocessing depends on the nature of the task, the resources available, and the specific constraints of the system. Here's a breakdown of scenarios where one is preferable over the other:\n",
        "\n",
        "Multithreading (Using Threads Within a Single Process)\n",
        "\n",
        "When It Is Preferable:\n",
        "\n",
        "1. I/O-Bound Tasks:\n",
        "\n",
        "Tasks that spend a lot of time waiting for I/O operations (e.g., file I/O, network requests, or database queries).\n",
        "\n",
        "Examples: Web scraping, handling multiple simultaneous network connections, and reading/writing large files.\n",
        "\n",
        "2. Shared Memory:\n",
        "\n",
        "When tasks need to share and modify common data structures frequently.\n",
        "\n",
        "Threads share the same memory space, making communication between them simpler and faster.\n",
        "\n",
        "3.Lower Memory Overhead:\n",
        "\n",
        "Threads are lightweight compared to processes, requiring less memory.\n",
        "\n",
        "Example: A program that needs to manage thousands of lightweight tasks simultaneously (e.g., a server managing client connections).\n",
        "\n",
        "4. Responsiveness:\n",
        "\n",
        "In GUI applications, multithreading can help keep the interface responsive while performing background tasks.\n",
        "\n",
        "Example: Handling UI updates while downloading a file in the background.\n",
        "\n",
        "\n",
        "  Multiprocessing (Using Multiple Processes)\n",
        "\n",
        "When It Is Preferable:\n",
        "\n",
        "1. CPU-Bound Tasks:\n",
        "\n",
        "Tasks that require heavy computation and can be parallelized.\n",
        "Each process gets its own Python interpreter and memory space, avoiding the GIL.\n",
        "\n",
        "Examples: Data processing, numerical simulations, machine learning model training, and image processing.\n",
        "\n",
        "2. No Shared State:\n",
        "\n",
        "When tasks can run independently without needing to share memory.\n",
        "\n",
        "Example: Processing different chunks of a dataset independently.\n",
        "\n",
        "3. Fault Isolation:\n",
        "\n",
        "A crash in one process doesn't affect others, improving fault tolerance.\n",
        "Example: Running independent subprocesses in a complex pipeline.\n",
        "\n",
        "4. Scalability Across Cores:\n",
        "\n",
        "Multiprocessing fully utilizes multiple CPU cores for parallel execution.\n",
        "\n",
        "Example: A computational task on an 8-core CPU can potentially achieve an 8x speedup.\n"
      ],
      "metadata": {
        "id": "BCX63IJdskuy"
      }
    },
    {
      "cell_type": "markdown",
      "source": [
        "Ques.2 Describe what a process pool is and how it helps in managing multiple processes efficiently.\n",
        "\n",
        "Ans. A process pool is a collection of worker processes managed by a pool manager that allows you to execute tasks concurrently across multiple processes. Instead of creating and managing processes manually for each task, a process pool provides a higher-level abstraction for distributing work efficiently among a fixed number of processes.\n",
        "\n",
        "-----Key Features of a Process Pool:\n",
        "\n",
        "\n",
        "1. Pre-created Worker Processes:\n",
        "\n",
        "The pool initializes a fixed number of worker processes when it is created.\n",
        "\n",
        "These processes remain alive and ready to execute tasks, avoiding the overhead of repeatedly creating and terminating processes.\n",
        "\n",
        "2. Task Distribution:\n",
        "\n",
        "Tasks are submitted to the pool via a queue, and the pool automatically assigns them to available workers.\n",
        "\n",
        "This ensures efficient utilization of resources by balancing the workload.\n",
        "\n",
        "3. Concurrency:\n",
        "\n",
        "Multiple tasks can execute concurrently, leveraging multiple CPU cores.\n",
        "\n",
        "The number of processes in the pool can be configured to match the number of cores or system constraints.\n",
        "\n",
        "4. Automatic Management:\n",
        "\n",
        "The pool handles worker lifecycle management (e.g., starting, terminating) and monitors task progress.\n",
        "\n",
        "----How It Helps in Managing Multiple Processes Efficiently:\n",
        "1. Reduced Overhead:\n",
        "\n",
        "Creating and destroying processes repeatedly can be expensive in terms of system resources.\n",
        "\n",
        "With a process pool, processes are reused, minimizing the cost of initialization.\n",
        "\n",
        "2. Simplified API:\n",
        "\n",
        "Process pools provide a simple interface for submitting tasks using methods like apply(), apply_async(), map(), or map_async() in Python's multiprocessing.Pool.\n",
        "\n",
        "3. Parallelism:\n",
        "\n",
        "By leveraging multiple processes, a pool allows parallel execution of independent tasks, maximizing CPU utilization.\n",
        "\n",
        "4. Controlled Resource Usage:\n",
        "\n",
        "The pool size limits the number of concurrent processes, preventing excessive resource consumption and avoiding overwhelming the system.\n",
        "\n",
        "5. Asynchronous Execution:\n",
        "\n",
        "Supports asynchronous execution of tasks, allowing the main program to continue while tasks are running in the background.\n",
        "\n",
        "\n",
        "-----Example: Using a Process Pool in Python\n",
        "\n"
      ],
      "metadata": {
        "id": "BrGfVcjpx-Vf"
      }
    },
    {
      "cell_type": "code",
      "source": [
        "from multiprocessing import Pool\n",
        "import os\n",
        "\n",
        "def compute_square(n):\n",
        "    print(f\"Process {os.getpid()} computing square of {n}\")\n",
        "    return n * n\n",
        "\n",
        "if __name__ == \"__main__\":\n",
        "    numbers = [1, 2, 3, 4, 5]\n",
        "\n",
        "    # Create a process pool with 4 workers\n",
        "    with Pool(processes=4) as pool:\n",
        "        # Map tasks to the pool\n",
        "        results = pool.map(compute_square, numbers)\n",
        "\n",
        "    print(\"Results:\", results)"
      ],
      "metadata": {
        "colab": {
          "base_uri": "https://localhost:8080/"
        },
        "id": "5tMw79eq0nIl",
        "outputId": "d439b2e2-5161-4d37-b48c-c5673b8713e6"
      },
      "execution_count": 1,
      "outputs": [
        {
          "output_type": "stream",
          "name": "stdout",
          "text": [
            "Process 8862 computing square of 1Process 8865 computing square of 4\n",
            "Process 8863 computing square of 2\n",
            "Process 8865 computing square of 5Process 8864 computing square of 3\n",
            "\n",
            "\n",
            "Results: [1, 4, 9, 16, 25]\n"
          ]
        }
      ]
    },
    {
      "cell_type": "markdown",
      "source": [
        "=====Explanation:====\n",
        "\n",
        "---A pool with 4 worker processes is created.\n",
        "\n",
        "---Each number in numbers is processed by an available worker.\n",
        "\n",
        "---The task of computing squares is distributed across the workers, enabling parallel computation.\n",
        "\n",
        "====When to Use a Process Pool:======\n",
        "\n",
        "---For scenarios requiring parallel execution of many independent tasks.\n",
        "\n",
        "---When the overhead of managing processes manually would be significant.\n",
        "\n",
        "---In data processing, simulations, or batch processing of jobs.\n"
      ],
      "metadata": {
        "id": "abIWVoDl0t9y"
      }
    },
    {
      "cell_type": "markdown",
      "source": [
        "Ques 3. Explain What multiprocessing is and why it is used in python programs.\n",
        "\n",
        "Ans. Multiprocessing is a programming technique that allows a program to execute multiple processes concurrently, leveraging multiple CPU cores to perform tasks in parallel. In Python, the multiprocessing module provides an easy-to-use API for creating and managing processes, enabling developers to build concurrent and parallel programs effectively.\n",
        "\n",
        "\n",
        "=====Why Multiprocessing is Used in Python Programs=====\n",
        "\n",
        "1. Overcome Global Interpreter Lock (GIL) Limitations:\n",
        "\n",
        "In Python, the Global Interpreter Lock (GIL) restricts the execution of multiple threads in the same process to one at a time, even on multi-core CPUs.\n",
        "\n",
        "Multiprocessing bypasses the GIL by using separate processes, each with its own Python interpreter and memory space, enabling true parallel execution.\n",
        "\n",
        "2. Leverage Multi-Core CPUs:\n",
        "\n",
        "Modern CPUs have multiple cores, allowing parallel processing of tasks.\n",
        "\n",
        "Multiprocessing splits tasks across multiple cores, significantly improving performance for CPU-intensive operations.\n",
        "\n",
        "3. Speed Up Computationally Intensive Tasks:\n",
        "\n",
        "For tasks such as mathematical computations, simulations, or data analysis, multiprocessing can greatly reduce execution time.\n",
        "\n",
        "Example: Training machine learning models or performing matrix operations.\n",
        "\n",
        "4. Improve Scalability:\n",
        "\n",
        "Programs that handle large-scale data or perform resource-heavy operations can be scaled efficiently using multiprocessing.\n",
        "\n",
        "Example: Processing large datasets in parallel chunks.\n",
        "\n",
        "5. Simplify Concurrent Task Execution:\n",
        "\n",
        "Multiprocessing provides a high-level interface for managing concurrent tasks, making it easier to write programs that can perform multiple operations simultaneously.\n",
        "\n",
        "====Key Features of Multiprocessing in Python=====\n",
        "\n",
        "1.Process Creation:\n",
        "\n",
        "The multiprocessing module lets you create and start processes using the Process class.\n",
        "\n",
        "2.Independent Memory Space:\n",
        "\n",
        "Each process has its own memory space, ensuring no interference between processes.\n",
        "\n",
        "3. Communication Between Processes:\n",
        "\n",
        "Supports mechanisms like pipes and queues for inter-process communication (IPC).\n",
        "\n",
        "4. Synchronization:\n",
        "\n",
        "Provides synchronization primitives such as locks, events, and semaphores to coordinate processes.\n",
        "\n",
        "5. Pools:\n",
        "\n",
        "The Pool class allows managing a pool of worker processes for efficiently handling multiple tasks.\n",
        "\n",
        "6. Cross-Platform Support:\n",
        "\n",
        "The multiprocessing module works on different operating systems (e.g., Windows, macOS, Linux).\n",
        "\n",
        "======Example Use Cases for Multiprocessing========\n",
        "\n",
        "1. Data Processing:\n",
        "\n",
        "Splitting large datasets into smaller chunks and processing them in parallel.\n",
        "Example: Image processing or video encoding.\n",
        "\n",
        "2. Web Scraping:\n",
        "\n",
        "Crawling multiple websites simultaneously to collect data.\n",
        "\n",
        "3. Scientific Computations:\n",
        "\n",
        "Running simulations or solving mathematical models in parallel.\n",
        "\n",
        "4. Background Tasks:\n",
        "\n",
        "Offloading resource-intensive tasks to separate processes without blocking the main application.\n",
        "\n",
        "=====Code Example: Basic Multiprocessing in Python======\n"
      ],
      "metadata": {
        "id": "FtaJgmjb1U_2"
      }
    },
    {
      "cell_type": "code",
      "source": [
        "from multiprocessing import Process\n",
        "import os\n",
        "\n",
        "def print_numbers():\n",
        "    for i in range(5):\n",
        "        print(f\"Process {os.getpid()} - Number: {i}\")\n",
        "\n",
        "if __name__ == \"__main__\":\n",
        "    processes = []\n",
        "\n",
        "    # Create 3 processes\n",
        "    for _ in range(3):\n",
        "        process = Process(target=print_numbers)\n",
        "        processes.append(process)\n",
        "        process.start()\n",
        "\n",
        "    # Wait for all processes to complete\n",
        "    for process in processes:\n",
        "        process.join()\n",
        "\n",
        "    print(\"All processes completed.\")\n"
      ],
      "metadata": {
        "colab": {
          "base_uri": "https://localhost:8080/"
        },
        "id": "nyO6b6KO3_O0",
        "outputId": "7be0f678-b49c-405a-c832-e9c7e1086d5f"
      },
      "execution_count": 2,
      "outputs": [
        {
          "output_type": "stream",
          "name": "stdout",
          "text": [
            "Process 12454 - Number: 0\n",
            "Process 12454 - Number: 1\n",
            "Process 12454 - Number: 2Process 12457 - Number: 0\n",
            "\n",
            "Process 12457 - Number: 1Process 12454 - Number: 3Process 12472 - Number: 0\n",
            "\n",
            "\n",
            "Process 12457 - Number: 2Process 12454 - Number: 4\n",
            "Process 12472 - Number: 1\n",
            "\n",
            "Process 12472 - Number: 2Process 12457 - Number: 3\n",
            "Process 12472 - Number: 3\n",
            "\n",
            "Process 12457 - Number: 4Process 12472 - Number: 4\n",
            "\n",
            "All processes completed.\n"
          ]
        }
      ]
    },
    {
      "cell_type": "markdown",
      "source": [
        "Ques4. Write a python program using multithreading where one thread adds     numbers to a list, and another thread removes numbers from the list. Implement a mechanism to avoid race conditions using threading.Lock.\n",
        "\n",
        "Ans. Here's an example of a Python program that uses multithreading to add and remove numbers from a list, with a mechanism to avoid race conditions using threading.Lock:\n"
      ],
      "metadata": {
        "id": "nFyfO-0Q4J_H"
      }
    },
    {
      "cell_type": "code",
      "source": [
        "import threading\n",
        "import time\n",
        "import random\n",
        "\n",
        "# Shared list\n",
        "shared_list = []\n",
        "\n",
        "# Lock to avoid race conditions\n",
        "list_lock = threading.Lock()\n",
        "\n",
        "# Function for adding numbers to the list\n",
        "def add_numbers():\n",
        "    for _ in range(10):  # Add 10 numbers\n",
        "        number = random.randint(1, 100)\n",
        "        with list_lock:  # Acquire lock\n",
        "            shared_list.append(number)\n",
        "            print(f\"Added: {number} | List: {shared_list}\")\n",
        "        time.sleep(random.uniform(0.1, 0.5))  # Simulate work\n",
        "\n",
        "# Function for removing numbers from the list\n",
        "def remove_numbers():\n",
        "    for _ in range(10):  # Remove 10 numbers\n",
        "        with list_lock:  # Acquire lock\n",
        "            if shared_list:\n",
        "                number = shared_list.pop(0)\n",
        "                print(f\"Removed: {number} | List: {shared_list}\")\n",
        "            else:\n",
        "                print(\"List is empty, nothing to remove.\")\n",
        "        time.sleep(random.uniform(0.1, 0.5))  # Simulate work\n",
        "\n",
        "# Creating threads\n",
        "adder_thread = threading.Thread(target=add_numbers)\n",
        "remover_thread = threading.Thread(target=remove_numbers)\n",
        "\n",
        "# Starting threads\n",
        "adder_thread.start()\n",
        "remover_thread.start()\n",
        "\n",
        "# Wait for threads to complete\n",
        "adder_thread.join()\n",
        "remover_thread.join()\n",
        "\n",
        "print(\"Final List:\", shared_list)\n"
      ],
      "metadata": {
        "colab": {
          "base_uri": "https://localhost:8080/"
        },
        "id": "eyn_rps66DnZ",
        "outputId": "5fa64e30-12af-42f7-8845-e993993b4701"
      },
      "execution_count": 3,
      "outputs": [
        {
          "output_type": "stream",
          "name": "stdout",
          "text": [
            "Added: 88 | List: [88]\n",
            "Removed: 88 | List: []\n",
            "List is empty, nothing to remove.\n",
            "Added: 42 | List: [42]\n",
            "Added: 70 | List: [42, 70]\n",
            "Removed: 42 | List: [70]\n",
            "Removed: 70 | List: []\n",
            "Added: 58 | List: [58]\n",
            "Removed: 58 | List: []\n",
            "Added: 48 | List: [48]\n",
            "Added: 72 | List: [48, 72]\n",
            "Removed: 48 | List: [72]\n",
            "Added: 51 | List: [72, 51]\n",
            "Removed: 72 | List: [51]\n",
            "Removed: 51 | List: []\n",
            "Added: 15 | List: [15]\n",
            "Removed: 15 | List: []\n",
            "Added: 22 | List: [22]\n",
            "Removed: 22 | List: []\n",
            "Added: 6 | List: [6]\n",
            "Final List: [6]\n"
          ]
        }
      ]
    },
    {
      "cell_type": "markdown",
      "source": [
        "Ques.5 Describe the methods and tools available in Python for safely sharing data between threads and processes\n",
        "\n",
        "Ans. Python provides several methods and tools for safely sharing data between threads and processes, depending on the type of concurrency (multithreading vs. multiprocessing). Here’s a breakdown:\n",
        "\n",
        "Sharing Data Between Threads\n",
        "Threads in Python share the same memory space, so data structures like lists and dictionaries are accessible to all threads. However, this can lead to race conditions, and proper synchronization mechanisms are required to ensure thread safety.\n",
        "\n",
        "1. Synchronization Primitives (from threading Module):\n",
        "\n",
        "---Lock:\n",
        "\n",
        "A simple mechanism to prevent multiple threads from accessing a shared resource simultaneously.\n",
        "\n",
        "Only one thread can acquire the lock at a time.\n",
        "python\n",
        "\n"
      ],
      "metadata": {
        "id": "SMtfa8tr795t"
      }
    },
    {
      "cell_type": "code",
      "source": [
        "lock = threading.Lock()\n",
        "with lock:\n",
        "    # Access shared resource"
      ],
      "metadata": {
        "id": "qt8CCOOG-YR-"
      },
      "execution_count": null,
      "outputs": []
    },
    {
      "cell_type": "markdown",
      "source": [
        "--RLock (Reentrant Lock):\n",
        "\n",
        "Allows the same thread to acquire the lock multiple times without getting blocked.\n"
      ],
      "metadata": {
        "id": "mUJbaVjO-eh0"
      }
    },
    {
      "cell_type": "code",
      "source": [
        "rlock = threading.RLock()\n",
        "with rlock:\n",
        "    # Access shared resource\n"
      ],
      "metadata": {
        "id": "hIm6NsRw-tTF"
      },
      "execution_count": null,
      "outputs": []
    },
    {
      "cell_type": "markdown",
      "source": [
        "---Semaphore:\n",
        "\n",
        "Allows a specified number of threads to access a resource concurrently."
      ],
      "metadata": {
        "id": "-CPz8xlI-ujY"
      }
    },
    {
      "cell_type": "code",
      "source": [
        "semaphore = threading.Semaphore(2)  # Up to 2 threads can access\n",
        "with semaphore:\n",
        "    # Access shared resource\n"
      ],
      "metadata": {
        "id": "6hI-2AtD-6Dm"
      },
      "execution_count": null,
      "outputs": []
    },
    {
      "cell_type": "markdown",
      "source": [
        "---Event:\n",
        "\n",
        "Used for signaling between threads. One thread can \"set\" the event, and others waiting for it can proceed."
      ],
      "metadata": {
        "id": "1MJqFR5K-8e0"
      }
    },
    {
      "cell_type": "code",
      "source": [
        "event = threading.Event()\n",
        "event.set()  # Signal\n",
        "event.wait()  # Wait for signal\n"
      ],
      "metadata": {
        "id": "IEAFNdk4_Nb9"
      },
      "execution_count": null,
      "outputs": []
    },
    {
      "cell_type": "markdown",
      "source": [
        "---Condition:\n",
        "\n",
        "Allows threads to wait for a certain condition to be met before proceeding."
      ],
      "metadata": {
        "id": "mMj_I7Lw_USI"
      }
    },
    {
      "cell_type": "code",
      "source": [
        "condition = threading.Condition()\n",
        "with condition:\n",
        "    condition.wait()  # Wait for a condition\n",
        "    # Proceed when the condition is met\n"
      ],
      "metadata": {
        "id": "9-21M8sJ_WcL"
      },
      "execution_count": null,
      "outputs": []
    },
    {
      "cell_type": "markdown",
      "source": [
        "2. Thread-Safe Queues (from queue Module):\n",
        "\n",
        "---Queue, LifoQueue, and PriorityQueue:\n",
        "\n",
        "These provide thread-safe mechanisms for data sharing.\n",
        "\n",
        "Internally, these queues use locks to ensure safe access."
      ],
      "metadata": {
        "id": "P0llEdUP_f_S"
      }
    },
    {
      "cell_type": "code",
      "source": [
        "from queue import Queue\n",
        "q = Queue()\n",
        "q.put(1)  # Add item\n",
        "item = q.get()  # Retrieve item\n"
      ],
      "metadata": {
        "id": "ACfLyFsG_uQ7"
      },
      "execution_count": 9,
      "outputs": []
    },
    {
      "cell_type": "markdown",
      "source": [
        "===Sharing Data Between Processes===\n",
        "\n",
        "Processes in Python have separate memory spaces, so data cannot be directly shared between them. Instead, data sharing requires inter-process communication (IPC) mechanisms.\n",
        "\n",
        "1. Shared Memory (from multiprocessing Module):\n",
        "\n",
        "---Value and Array:\n",
        "\n",
        "Allows sharing basic data types and arrays between processes.\n",
        "\n",
        "Data is stored in shared memory."
      ],
      "metadata": {
        "id": "9zgy2phe_zuT"
      }
    },
    {
      "cell_type": "code",
      "source": [
        "from multiprocessing import Value, Array\n",
        "shared_value = Value('i', 0)  # Integer\n",
        "shared_array = Array('i', [1, 2, 3])  # Array of integers\n",
        "with shared_value.get_lock():\n",
        "    shared_value.value += 1\n"
      ],
      "metadata": {
        "id": "313YSK72ADcR"
      },
      "execution_count": 8,
      "outputs": []
    },
    {
      "cell_type": "markdown",
      "source": [
        "2. Process-Safe Queues (from multiprocessing Module):\n",
        "\n",
        "---Queue:\n",
        "\n",
        "A process-safe FIFO queue for exchanging data between processes.\n"
      ],
      "metadata": {
        "id": "lkWJfdpzAJaW"
      }
    },
    {
      "cell_type": "code",
      "source": [
        "from multiprocessing import Queue\n",
        "q = Queue()\n",
        "q.put(\"Hello\")  # Add item\n",
        "print(q.get())  # Retrieve item\n"
      ],
      "metadata": {
        "colab": {
          "base_uri": "https://localhost:8080/"
        },
        "id": "GhoBB7yyAUzq",
        "outputId": "a7e6db0d-da75-432e-d78a-1c71c7005efe"
      },
      "execution_count": 7,
      "outputs": [
        {
          "output_type": "stream",
          "name": "stdout",
          "text": [
            "Hello\n"
          ]
        }
      ]
    },
    {
      "cell_type": "markdown",
      "source": [
        "---Manager:\n",
        "\n",
        "Provides shared data structures like dictionaries, lists, and namespaces."
      ],
      "metadata": {
        "id": "DHPXZDouAb1T"
      }
    },
    {
      "cell_type": "code",
      "source": [
        "from multiprocessing import Manager\n",
        "manager = Manager()\n",
        "shared_list = manager.list([1, 2, 3])\n",
        "shared_dict = manager.dict({\"key\": \"value\"})\n",
        "shared_list.append(4)\n"
      ],
      "metadata": {
        "id": "C9v3SEk_Afk4"
      },
      "execution_count": 6,
      "outputs": []
    },
    {
      "cell_type": "markdown",
      "source": [
        "3. Pipes (from multiprocessing Module):\n",
        "\n",
        "---Pipe:\n",
        "\n",
        "A two-way communication channel between processes.\n",
        "\n"
      ],
      "metadata": {
        "id": "Ra--0rjCAwIC"
      }
    },
    {
      "cell_type": "code",
      "source": [
        "from multiprocessing import Pipe\n",
        "parent_conn, child_conn = Pipe()\n",
        "parent_conn.send(\"Hello from parent\")\n",
        "print(child_conn.recv())\n"
      ],
      "metadata": {
        "colab": {
          "base_uri": "https://localhost:8080/"
        },
        "id": "sRCW7EmZA7N1",
        "outputId": "a27cb745-6065-4e98-f9ad-89d25dfb1117"
      },
      "execution_count": 10,
      "outputs": [
        {
          "output_type": "stream",
          "name": "stdout",
          "text": [
            "Hello from parent\n"
          ]
        }
      ]
    },
    {
      "cell_type": "markdown",
      "source": [
        "4. Synchronization Primitives (from multiprocessing Module):\n",
        "\n",
        "---Lock:\n",
        "\n",
        "Prevents multiple processes from accessing a shared resource simultaneously.\n",
        "\n",
        "---Semaphore and BoundedSemaphore:\n",
        "\n",
        "Limits the number of processes that can access a resource concurrently.\n",
        "\n",
        "---Event and Condition:\n",
        "\n",
        "Facilitate signaling and coordination between processes.\n",
        "\n",
        "5. Shared Memory Interface (from multiprocessing.shared_memory Module):\n",
        "\n",
        "---SharedMemory:\n",
        "\n",
        "Allows explicit shared memory blocks for faster data exchange.\n"
      ],
      "metadata": {
        "id": "RqC1fDwSBC2C"
      }
    },
    {
      "cell_type": "code",
      "source": [
        "from multiprocessing.shared_memory import SharedMemory\n",
        "shm = SharedMemory(create=True, size=1024)\n",
        "shm.buf[:5] = b\"Hello\"  # Write to shared memory\n",
        "print(bytes(shm.buf[:5]))  # Read from shared memory\n",
        "shm.close()\n",
        "shm.unlink()\n"
      ],
      "metadata": {
        "colab": {
          "base_uri": "https://localhost:8080/"
        },
        "id": "r7Jxou4kBcqp",
        "outputId": "c87b580e-da80-4214-ab91-5d9c3009f3ab"
      },
      "execution_count": 11,
      "outputs": [
        {
          "output_type": "stream",
          "name": "stdout",
          "text": [
            "b'Hello'\n"
          ]
        }
      ]
    },
    {
      "cell_type": "markdown",
      "source": [
        "Ques 6. Discuss why it's crucial to handle exceptions in concurrent programs and the techniques available for doing so.\n",
        "\n",
        "Ans. Handling exceptions in concurrent programs is crucial because concurrency introduces unique challenges, such as multiple tasks running independently, competing for resources, and interacting with shared data. Without proper exception handling, errors in one thread or process can propagate, cause resource leaks, or leave the system in an inconsistent state.\n",
        "\n",
        "Why Exception Handling is Crucial in Concurrent Programs\n",
        "\n",
        "1. Preventing Resource Leaks:\n",
        "\n",
        "Threads or processes might acquire resources (e.g., file handles, locks, or memory) that need to be released even if an exception occurs.\n",
        "\n",
        "Unhandled exceptions may leave resources locked or unreleased.\n",
        "\n",
        "2. Maintaining Consistency:\n",
        "\n",
        "Shared data structures or states can become corrupted if a thread or process encounters an exception during critical operations.\n",
        "\n",
        "3. Ensuring System Stability:\n",
        "\n",
        "In systems with multiple tasks, an unhandled exception in one thread or process can cause the entire program to crash or hang.\n",
        "\n",
        "4. Debugging and Monitoring:\n",
        "\n",
        "Proper exception handling ensures that errors are logged or propagated in a way that facilitates debugging.\n",
        "\n",
        "Swallowed exceptions can make it difficult to identify and resolve issues.\n",
        "\n",
        "5. Graceful Degradation:\n",
        "\n",
        "Concurrent programs often involve critical and non-critical tasks. Handling exceptions allows non-critical tasks to fail without affecting critical ones.\n",
        "\n",
        "6. Inter-Thread/Process Communication:\n",
        "\n",
        "In concurrent programs, exceptions in one task might need to be communicated to other tasks to handle dependencies properly.\n",
        "\n",
        "====Techniques for Handling Exceptions in Concurrent Programs=====\n",
        "\n",
        "1. Using Try-Except Blocks\n",
        "\n",
        "Surround critical sections with try-except blocks to handle exceptions locally.\n",
        "\n",
        "This ensures that errors are managed without crashing the entire thread or process.\n"
      ],
      "metadata": {
        "id": "ZPiG6nOtCuvN"
      }
    },
    {
      "cell_type": "code",
      "source": [
        "import threading\n",
        "\n",
        "def worker():\n",
        "    try:\n",
        "        # Critical operation\n",
        "        result = 10 / 0\n",
        "    except ZeroDivisionError as e:\n",
        "        print(f\"Error in thread {threading.current_thread().name}: {e}\")\n",
        "\n",
        "thread = threading.Thread(target=worker)\n",
        "thread.start()\n",
        "thread.join()\n"
      ],
      "metadata": {
        "colab": {
          "base_uri": "https://localhost:8080/"
        },
        "id": "Ibk7Me_UEiQT",
        "outputId": "7f3ea2e6-d07b-420b-f0d0-75c70fcc7de7"
      },
      "execution_count": 12,
      "outputs": [
        {
          "output_type": "stream",
          "name": "stdout",
          "text": [
            "Error in thread Thread-15 (worker): division by zero\n"
          ]
        }
      ]
    },
    {
      "cell_type": "markdown",
      "source": [
        "2. Threading Exception Handling\n",
        "\n",
        "==Join with Timeout and Exception Checking:\n",
        "\n",
        "Use threading.Thread.join() to monitor threads. Wrap the thread logic in a try-except block to capture exceptions.\n",
        "\n",
        "==Custom Exception Propagation:\n",
        "\n",
        "Threads don't automatically propagate exceptions to the main thread. Use custom objects or queues to report errors."
      ],
      "metadata": {
        "id": "lmgMwJo4Erri"
      }
    },
    {
      "cell_type": "code",
      "source": [
        "import threading\n",
        "import queue\n",
        "\n",
        "def worker(q):\n",
        "    try:\n",
        "        result = 10 / 0\n",
        "    except Exception as e:\n",
        "        q.put(e)\n",
        "\n",
        "error_queue = queue.Queue()\n",
        "thread = threading.Thread(target=worker, args=(error_queue,))\n",
        "thread.start()\n",
        "thread.join()\n",
        "\n",
        "if not error_queue.empty():\n",
        "    print(\"Caught exception:\", error_queue.get())\n"
      ],
      "metadata": {
        "colab": {
          "base_uri": "https://localhost:8080/"
        },
        "id": "kiDmzfp-E31C",
        "outputId": "2881758e-c32e-49cf-f32d-1ee55c26fd88"
      },
      "execution_count": 13,
      "outputs": [
        {
          "output_type": "stream",
          "name": "stdout",
          "text": [
            "Caught exception: division by zero\n"
          ]
        }
      ]
    },
    {
      "cell_type": "markdown",
      "source": [
        "3. Multiprocessing Exception Handling\n",
        "\n",
        "==Using Queues or Pipes for Error Reporting:\n",
        "\n",
        "Processes are isolated, so exceptions in child processes don't affect the parent directly. Use multiprocessing.Queue to send error details back to the parent."
      ],
      "metadata": {
        "id": "py-UaxbdE9QB"
      }
    },
    {
      "cell_type": "code",
      "source": [
        "from multiprocessing import Process, Queue\n",
        "\n",
        "def worker(q):\n",
        "    try:\n",
        "        result = 10 / 0\n",
        "    except Exception as e:\n",
        "        q.put(e)\n",
        "\n",
        "q = Queue()\n",
        "process = Process(target=worker, args=(q,))\n",
        "process.start()\n",
        "process.join()\n",
        "\n",
        "if not q.empty():\n",
        "    print(\"Caught exception:\", q.get())\n"
      ],
      "metadata": {
        "colab": {
          "base_uri": "https://localhost:8080/"
        },
        "id": "RH0PAIaPFI-e",
        "outputId": "6554274e-4a27-47c9-83fc-ca448d7da0b2"
      },
      "execution_count": 14,
      "outputs": [
        {
          "output_type": "stream",
          "name": "stdout",
          "text": [
            "Caught exception: division by zero\n"
          ]
        }
      ]
    },
    {
      "cell_type": "markdown",
      "source": [
        "===Using Pool Exception Handling:\n",
        "\n",
        "The Pool class provides error reporting through the apply_async() method with a callback and error handler.\n",
        "\n"
      ],
      "metadata": {
        "id": "VpeBFjLTFUKl"
      }
    },
    {
      "cell_type": "code",
      "source": [
        "from multiprocessing import Pool\n",
        "\n",
        "def worker(n):\n",
        "    return 10 / n\n",
        "\n",
        "def error_handler(e):\n",
        "    print(f\"Error: {e}\")\n",
        "\n",
        "with Pool(2) as pool:\n",
        "    result = pool.apply_async(worker, (0,), error_callback=error_handler)\n",
        "    pool.close()\n",
        "    pool.join()\n"
      ],
      "metadata": {
        "colab": {
          "base_uri": "https://localhost:8080/"
        },
        "id": "7n1E4m3qFjig",
        "outputId": "840c7c59-3fbf-474c-f209-9ef46a59d443"
      },
      "execution_count": 15,
      "outputs": [
        {
          "output_type": "stream",
          "name": "stdout",
          "text": [
            "Error: division by zero\n"
          ]
        }
      ]
    },
    {
      "cell_type": "markdown",
      "source": [
        "4. Logging Exceptions\n",
        "\n",
        "Use the logging module to log exceptions systematically, providing better debugging and traceability."
      ],
      "metadata": {
        "id": "gAGmaAHYFo6R"
      }
    },
    {
      "cell_type": "code",
      "source": [
        "import logging\n",
        "import threading\n",
        "\n",
        "logging.basicConfig(level=logging.ERROR, format='%(asctime)s %(message)s')\n",
        "\n",
        "def worker():\n",
        "    try:\n",
        "        result = 10 / 0\n",
        "    except Exception as e:\n",
        "        logging.error(\"Exception occurred\", exc_info=True)\n",
        "\n",
        "thread = threading.Thread(target=worker)\n",
        "thread.start()\n",
        "thread.join()\n"
      ],
      "metadata": {
        "colab": {
          "base_uri": "https://localhost:8080/"
        },
        "id": "m4ZmBz8YFucJ",
        "outputId": "7785397c-3ddf-44af-8675-ae655c12b78a"
      },
      "execution_count": 16,
      "outputs": [
        {
          "output_type": "stream",
          "name": "stderr",
          "text": [
            "ERROR:root:Exception occurred\n",
            "Traceback (most recent call last):\n",
            "  File \"<ipython-input-16-893575c073e8>\", line 8, in worker\n",
            "    result = 10 / 0\n",
            "ZeroDivisionError: division by zero\n"
          ]
        }
      ]
    },
    {
      "cell_type": "markdown",
      "source": [
        "5. Graceful Shutdown with Finally Blocks\n",
        "\n",
        "Use finally to clean up resources like locks, files, or connections, even if an exception occurs."
      ],
      "metadata": {
        "id": "KXUW2ixuF2dj"
      }
    },
    {
      "cell_type": "code",
      "source": [
        "import threading\n",
        "\n",
        "lock = threading.Lock()\n",
        "\n",
        "def worker():\n",
        "    try:\n",
        "        lock.acquire()\n",
        "        result = 10 / 0\n",
        "    except Exception as e:\n",
        "        print(f\"Error: {e}\")\n",
        "    finally:\n",
        "        lock.release()\n",
        "        print(\"Lock released\")\n",
        "\n",
        "thread = threading.Thread(target=worker)\n",
        "thread.start()\n",
        "thread.join()\n"
      ],
      "metadata": {
        "colab": {
          "base_uri": "https://localhost:8080/"
        },
        "id": "CaM5EQBXF8UR",
        "outputId": "c4f70acb-f065-4ad5-893a-423f98cf7792"
      },
      "execution_count": 17,
      "outputs": [
        {
          "output_type": "stream",
          "name": "stdout",
          "text": [
            "Error: division by zero\n",
            "Lock released\n"
          ]
        }
      ]
    },
    {
      "cell_type": "markdown",
      "source": [
        "6. Watchdog/Monitoring Threads\n",
        "\n",
        "Use a dedicated thread to monitor the status of other threads or processes and respond to errors."
      ],
      "metadata": {
        "id": "XlS8ovBqGCDZ"
      }
    },
    {
      "cell_type": "code",
      "source": [
        "import threading\n",
        "\n",
        "def worker():\n",
        "    try:\n",
        "        result = 10 / 0\n",
        "    except Exception as e:\n",
        "        raise RuntimeError(\"Worker encountered an error\") from e\n",
        "\n",
        "def monitor(thread):\n",
        "    thread.join()\n",
        "    if not thread.is_alive():\n",
        "        print(\"Thread finished or encountered an error.\")\n",
        "\n",
        "thread = threading.Thread(target=worker)\n",
        "thread.start()\n",
        "\n",
        "monitor_thread = threading.Thread(target=monitor, args=(thread,))\n",
        "monitor_thread.start()\n",
        "monitor_thread.join()\n"
      ],
      "metadata": {
        "colab": {
          "base_uri": "https://localhost:8080/"
        },
        "id": "WQrCPrFUGHKh",
        "outputId": "82ed9126-220b-4b9c-ab19-fb0b6371d8b1"
      },
      "execution_count": 18,
      "outputs": [
        {
          "output_type": "stream",
          "name": "stderr",
          "text": [
            "Exception in thread Thread-22 (worker):\n",
            "Traceback (most recent call last):\n",
            "  File \"<ipython-input-18-e4f2121e2842>\", line 5, in worker\n",
            "ZeroDivisionError: division by zero\n",
            "\n",
            "The above exception was the direct cause of the following exception:\n",
            "\n",
            "Traceback (most recent call last):\n",
            "  File \"/usr/lib/python3.10/threading.py\", line 1016, in _bootstrap_inner\n",
            "    self.run()\n",
            "  File \"/usr/lib/python3.10/threading.py\", line 953, in run\n",
            "    self._target(*self._args, **self._kwargs)\n",
            "  File \"<ipython-input-18-e4f2121e2842>\", line 7, in worker\n",
            "RuntimeError: Worker encountered an error\n"
          ]
        },
        {
          "output_type": "stream",
          "name": "stdout",
          "text": [
            "Thread finished or encountered an error.\n"
          ]
        }
      ]
    },
    {
      "cell_type": "markdown",
      "source": [
        "Ques 7. Create a program that uses a thread pool to calculate the factorial of number from 1 to 10 concurrently. Use concurrent.futures.ThreadPoolExecutor to manage the threads.\n",
        "\n",
        "Ans. Here's a Python program that calculates the factorial of numbers from 1 to 10 concurrently using a thread pool managed by concurrent.futures.ThreadPoolExecutor:"
      ],
      "metadata": {
        "id": "fLzPwCaeGLAe"
      }
    },
    {
      "cell_type": "code",
      "source": [
        "from concurrent.futures import ThreadPoolExecutor\n",
        "import math\n",
        "\n",
        "# Function to calculate factorial\n",
        "def calculate_factorial(n):\n",
        "    print(f\"Calculating factorial of {n}\")\n",
        "    return n, math.factorial(n)\n",
        "\n",
        "def main():\n",
        "    numbers = range(1, 11)  # Numbers from 1 to 10\n",
        "\n",
        "    # Create a thread pool\n",
        "    with ThreadPoolExecutor(max_workers=5) as executor:\n",
        "        # Submit tasks to the thread pool\n",
        "        results = executor.map(calculate_factorial, numbers)\n",
        "\n",
        "    # Display the results\n",
        "    for num, fact in results:\n",
        "        print(f\"Factorial of {num} is {fact}\")\n",
        "\n",
        "if __name__ == \"__main__\":\n",
        "    main()\n"
      ],
      "metadata": {
        "colab": {
          "base_uri": "https://localhost:8080/"
        },
        "id": "yXB61MiYHgTe",
        "outputId": "ae242315-741f-477b-8f1d-c9b12476f674"
      },
      "execution_count": 19,
      "outputs": [
        {
          "output_type": "stream",
          "name": "stdout",
          "text": [
            "Calculating factorial of 1Calculating factorial of 2\n",
            "Calculating factorial of 3\n",
            "\n",
            "Calculating factorial of 4Calculating factorial of 5\n",
            "Calculating factorial of 6\n",
            "Calculating factorial of 7\n",
            "\n",
            "Calculating factorial of 8Calculating factorial of 9\n",
            "Calculating factorial of 10\n",
            "\n",
            "Factorial of 1 is 1\n",
            "Factorial of 2 is 2\n",
            "Factorial of 3 is 6\n",
            "Factorial of 4 is 24\n",
            "Factorial of 5 is 120\n",
            "Factorial of 6 is 720\n",
            "Factorial of 7 is 5040\n",
            "Factorial of 8 is 40320\n",
            "Factorial of 9 is 362880\n",
            "Factorial of 10 is 3628800\n"
          ]
        }
      ]
    },
    {
      "cell_type": "markdown",
      "source": [
        "Ques 8. Create a Python program that uses multiprocessing.Pool to compute the square of numbers from 1 to 10 in parallel.Measure the time taken to perform this computation using a pool of different sizes (e.g.,2,4,8 processes)\n",
        "\n",
        "Ans.Here's a Python program that uses multiprocessing.Pool to compute the square of numbers from 1 to 10 in parallel. It also measures the time taken for the computation with different pool sizes (e.g., 2, 4, 8 processes):\n"
      ],
      "metadata": {
        "id": "bEm9Nph8HmRM"
      }
    },
    {
      "cell_type": "code",
      "source": [
        "import multiprocessing\n",
        "import time\n",
        "\n",
        "# Function to compute the square of a number\n",
        "def compute_square(n):\n",
        "    return n * n\n",
        "\n",
        "def measure_time(pool_size, numbers):\n",
        "    print(f\"\\nUsing a pool of size {pool_size}:\")\n",
        "    start_time = time.time()\n",
        "\n",
        "    # Create a pool with the specified number of processes\n",
        "    with multiprocessing.Pool(processes=pool_size) as pool:\n",
        "        # Map the function to the numbers\n",
        "        results = pool.map(compute_square, numbers)\n",
        "\n",
        "    end_time = time.time()\n",
        "    print(f\"Results: {results}\")\n",
        "    print(f\"Time taken with pool size {pool_size}: {end_time - start_time:.4f} seconds\")\n",
        "\n",
        "def main():\n",
        "    numbers = range(1, 11)  # Numbers from 1 to 10\n",
        "    pool_sizes = [2, 4, 8]  # Different pool sizes to test\n",
        "\n",
        "    for pool_size in pool_sizes:\n",
        "        measure_time(pool_size, numbers)\n",
        "\n",
        "if __name__ == \"__main__\":\n",
        "    main()\n"
      ],
      "metadata": {
        "colab": {
          "base_uri": "https://localhost:8080/"
        },
        "id": "62o9BBP9IvNg",
        "outputId": "98f257a1-a22d-4af6-fc8b-bfe99a50db26"
      },
      "execution_count": 20,
      "outputs": [
        {
          "output_type": "stream",
          "name": "stdout",
          "text": [
            "\n",
            "Using a pool of size 2:\n",
            "Results: [1, 4, 9, 16, 25, 36, 49, 64, 81, 100]\n",
            "Time taken with pool size 2: 0.0332 seconds\n",
            "\n",
            "Using a pool of size 4:\n",
            "Results: [1, 4, 9, 16, 25, 36, 49, 64, 81, 100]\n",
            "Time taken with pool size 4: 0.0610 seconds\n",
            "\n",
            "Using a pool of size 8:\n",
            "Results: [1, 4, 9, 16, 25, 36, 49, 64, 81, 100]\n",
            "Time taken with pool size 8: 0.0965 seconds\n"
          ]
        }
      ]
    }
  ]
}